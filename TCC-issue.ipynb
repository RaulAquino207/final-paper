{
 "cells": [
  {
   "cell_type": "code",
   "execution_count": 1,
   "metadata": {},
   "outputs": [],
   "source": [
    "import time\n",
    "import glob\n",
    "import os\n",
    "import numpy as np\n",
    "import pandas as pd\n",
    "import cv2 as cv\n",
    "from keras.models import Sequential\n",
    "from keras.layers import Dense\n",
    "from tensorflow.keras.layers import Flatten, Activation, Conv2D, MaxPool2D, Dense\n",
    "from keras.optimizers import SGD, Adam\n",
    "from tensorflow.keras import backend\n",
    "from sklearn.model_selection import train_test_split\n",
    "from sklearn.metrics import accuracy_score, recall_score, f1_score\n",
    "from sklearn.neural_network import MLPClassifier\n",
    "from sklearn.neighbors import KNeighborsClassifier\n",
    "from sklearn.discriminant_analysis import QuadraticDiscriminantAnalysis\n",
    "import matplotlib.pyplot as plt\n",
    "from keras.utils.np_utils import to_categorical\n",
    "import skimage.io as io\n",
    "import skimage.transform as trans\n",
    "from keras.models import *\n",
    "from keras.layers import *\n",
    "from keras.optimizers import *\n",
    "from keras.callbacks import ModelCheckpoint, LearningRateScheduler\n",
    "from keras import backend as keras"
   ]
  },
  {
   "cell_type": "code",
   "execution_count": 2,
   "metadata": {},
   "outputs": [],
   "source": [
    "path = './smear2005/database-pictures/normal_superficiel'"
   ]
  },
  {
   "cell_type": "code",
   "execution_count": 3,
   "metadata": {},
   "outputs": [],
   "source": [
    "normal_images = []\n",
    "segmented_images = []\n",
    "shape_of_images = []\n",
    "\n",
    "for r, d, f in os.walk(path):\n",
    "    for filename in f:\n",
    "        if('-d.bmp' in os.path.join(path, filename)):\n",
    "            img = cv.imread(os.path.join(path, filename))\n",
    "            rows, cols = img.shape[:2]\n",
    "            shape_of_images.append([rows, cols])\n",
    "            segmented_images.append(os.path.join(path, filename))\n",
    "        else:\n",
    "            normal_images.append(os.path.join(path, filename))"
   ]
  },
  {
   "cell_type": "code",
   "execution_count": 4,
   "metadata": {
    "scrolled": true
   },
   "outputs": [
    {
     "data": {
      "text/plain": [
       "[[234, 189],\n",
       " [168, 171],\n",
       " [280, 355],\n",
       " [300, 768],\n",
       " [393, 349],\n",
       " [242, 364],\n",
       " [406, 449],\n",
       " [364, 364],\n",
       " [382, 400],\n",
       " [316, 341],\n",
       " [261, 330],\n",
       " [289, 252],\n",
       " [182, 258],\n",
       " [331, 352],\n",
       " [267, 252],\n",
       " [127, 153],\n",
       " [145, 203],\n",
       " [187, 241],\n",
       " [238, 285],\n",
       " [132, 254],\n",
       " [173, 254],\n",
       " [229, 162],\n",
       " [284, 307],\n",
       " [344, 387],\n",
       " [313, 314],\n",
       " [289, 247],\n",
       " [276, 382],\n",
       " [310, 371],\n",
       " [288, 303],\n",
       " [334, 361],\n",
       " [282, 279],\n",
       " [326, 480],\n",
       " [382, 348],\n",
       " [314, 445],\n",
       " [259, 306],\n",
       " [239, 243],\n",
       " [226, 285],\n",
       " [239, 280],\n",
       " [255, 302],\n",
       " [277, 263],\n",
       " [252, 303],\n",
       " [358, 374],\n",
       " [292, 358],\n",
       " [337, 392],\n",
       " [276, 296],\n",
       " [284, 768],\n",
       " [318, 340],\n",
       " [353, 357],\n",
       " [381, 320],\n",
       " [267, 434],\n",
       " [335, 344],\n",
       " [431, 449],\n",
       " [439, 496],\n",
       " [389, 359],\n",
       " [191, 308],\n",
       " [206, 391],\n",
       " [280, 276],\n",
       " [311, 245],\n",
       " [418, 413],\n",
       " [349, 315],\n",
       " [324, 323],\n",
       " [354, 318],\n",
       " [345, 402],\n",
       " [382, 298],\n",
       " [310, 269],\n",
       " [399, 378],\n",
       " [310, 322],\n",
       " [336, 314],\n",
       " [357, 289],\n",
       " [331, 345],\n",
       " [280, 291],\n",
       " [362, 374],\n",
       " [319, 231],\n",
       " [297, 347]]"
      ]
     },
     "execution_count": 4,
     "metadata": {},
     "output_type": "execute_result"
    }
   ],
   "source": [
    "shape_of_images"
   ]
  },
  {
   "cell_type": "code",
   "execution_count": 5,
   "metadata": {},
   "outputs": [
    {
     "name": "stdout",
     "output_type": "stream",
     "text": [
      "74\n"
     ]
    },
    {
     "data": {
      "text/plain": [
       "['./smear2005/database-pictures/normal_superficiel\\\\153958345-153958392-001.BMP',\n",
       " './smear2005/database-pictures/normal_superficiel\\\\153960256-153960295-002.BMP',\n",
       " './smear2005/database-pictures/normal_superficiel\\\\157181281-157181308-001.BMP',\n",
       " './smear2005/database-pictures/normal_superficiel\\\\157181387-157181418-001.BMP',\n",
       " './smear2005/database-pictures/normal_superficiel\\\\157181525-157181540-001.BMP']"
      ]
     },
     "execution_count": 5,
     "metadata": {},
     "output_type": "execute_result"
    }
   ],
   "source": [
    "print(len(normal_images))\n",
    "normal_images[0:5]"
   ]
  },
  {
   "cell_type": "code",
   "execution_count": 6,
   "metadata": {},
   "outputs": [
    {
     "name": "stdout",
     "output_type": "stream",
     "text": [
      "74\n"
     ]
    },
    {
     "data": {
      "text/plain": [
       "['./smear2005/database-pictures/normal_superficiel\\\\153958345-153958392-001-d.bmp',\n",
       " './smear2005/database-pictures/normal_superficiel\\\\153960256-153960295-002-d.bmp',\n",
       " './smear2005/database-pictures/normal_superficiel\\\\157181281-157181308-001-d.bmp',\n",
       " './smear2005/database-pictures/normal_superficiel\\\\157181387-157181418-001-d.bmp',\n",
       " './smear2005/database-pictures/normal_superficiel\\\\157181525-157181540-001-d.bmp']"
      ]
     },
     "execution_count": 6,
     "metadata": {},
     "output_type": "execute_result"
    }
   ],
   "source": [
    "print(len(segmented_images))\n",
    "segmented_images[0:5]"
   ]
  },
  {
   "cell_type": "code",
   "execution_count": 7,
   "metadata": {},
   "outputs": [],
   "source": [
    "# img = cv.imread(normal_images[0])\n",
    "# cv.imshow('image', img)\n",
    "# cv.waitKey(0)"
   ]
  },
  {
   "cell_type": "code",
   "execution_count": 10,
   "metadata": {},
   "outputs": [],
   "source": [
    "def unet(pretrained_weights = None,input_size = (256,256,1)):\n",
    "    inputs = Input(input_size)\n",
    "    conv1 = Conv2D(64, 3, activation = 'relu', padding = 'same', kernel_initializer = 'he_normal')(inputs)\n",
    "    conv1 = Conv2D(64, 3, activation = 'relu', padding = 'same', kernel_initializer = 'he_normal')(conv1)\n",
    "    pool1 = MaxPooling2D(pool_size=(2, 2))(conv1)\n",
    "    conv2 = Conv2D(128, 3, activation = 'relu', padding = 'same', kernel_initializer = 'he_normal')(pool1)\n",
    "    conv2 = Conv2D(128, 3, activation = 'relu', padding = 'same', kernel_initializer = 'he_normal')(conv2)\n",
    "    pool2 = MaxPooling2D(pool_size=(2, 2))(conv2)\n",
    "    conv3 = Conv2D(256, 3, activation = 'relu', padding = 'same', kernel_initializer = 'he_normal')(pool2)\n",
    "    conv3 = Conv2D(256, 3, activation = 'relu', padding = 'same', kernel_initializer = 'he_normal')(conv3)\n",
    "    pool3 = MaxPooling2D(pool_size=(2, 2))(conv3)\n",
    "    conv4 = Conv2D(512, 3, activation = 'relu', padding = 'same', kernel_initializer = 'he_normal')(pool3)\n",
    "    conv4 = Conv2D(512, 3, activation = 'relu', padding = 'same', kernel_initializer = 'he_normal')(conv4)\n",
    "    drop4 = Dropout(0.5)(conv4)\n",
    "    pool4 = MaxPooling2D(pool_size=(2, 2))(drop4)\n",
    "\n",
    "    conv5 = Conv2D(1024, 3, activation = 'relu', padding = 'same', kernel_initializer = 'he_normal')(pool4)\n",
    "    conv5 = Conv2D(1024, 3, activation = 'relu', padding = 'same', kernel_initializer = 'he_normal')(conv5)\n",
    "    drop5 = Dropout(0.5)(conv5)\n",
    "\n",
    "    up6 = Conv2D(512, 2, activation = 'relu', padding = 'same', kernel_initializer = 'he_normal')(UpSampling2D(size = (2,2))(drop5))\n",
    "    merge6 = concatenate([drop4,up6], axis = 3)\n",
    "    conv6 = Conv2D(512, 3, activation = 'relu', padding = 'same', kernel_initializer = 'he_normal')(merge6)\n",
    "    conv6 = Conv2D(512, 3, activation = 'relu', padding = 'same', kernel_initializer = 'he_normal')(conv6)\n",
    "\n",
    "    up7 = Conv2D(256, 2, activation = 'relu', padding = 'same', kernel_initializer = 'he_normal')(UpSampling2D(size = (2,2))(conv6))\n",
    "    merge7 = concatenate([conv3,up7], axis = 3)\n",
    "    conv7 = Conv2D(256, 3, activation = 'relu', padding = 'same', kernel_initializer = 'he_normal')(merge7)\n",
    "    conv7 = Conv2D(256, 3, activation = 'relu', padding = 'same', kernel_initializer = 'he_normal')(conv7)\n",
    "\n",
    "    up8 = Conv2D(128, 2, activation = 'relu', padding = 'same', kernel_initializer = 'he_normal')(UpSampling2D(size = (2,2))(conv7))\n",
    "    merge8 = concatenate([conv2,up8], axis = 3)\n",
    "    conv8 = Conv2D(128, 3, activation = 'relu', padding = 'same', kernel_initializer = 'he_normal')(merge8)\n",
    "    conv8 = Conv2D(128, 3, activation = 'relu', padding = 'same', kernel_initializer = 'he_normal')(conv8)\n",
    "\n",
    "    up9 = Conv2D(64, 2, activation = 'relu', padding = 'same', kernel_initializer = 'he_normal')(UpSampling2D(size = (2,2))(conv8))\n",
    "    merge9 = concatenate([conv1,up9], axis = 3)\n",
    "    conv9 = Conv2D(64, 3, activation = 'relu', padding = 'same', kernel_initializer = 'he_normal')(merge9)\n",
    "    conv9 = Conv2D(64, 3, activation = 'relu', padding = 'same', kernel_initializer = 'he_normal')(conv9)\n",
    "    conv9 = Conv2D(2, 3, activation = 'relu', padding = 'same', kernel_initializer = 'he_normal')(conv9)\n",
    "    conv10 = Conv2D(1, 1, activation = 'sigmoid')(conv9)\n",
    "\n",
    "    model = Model(input = inputs, output = conv10)\n",
    "\n",
    "    model.compile(optimizer = Adam(lr = 1e-4), loss = 'binary_crossentropy', metrics = ['accuracy'])\n",
    "    \n",
    "    #model.summary()\n",
    "\n",
    "    if(pretrained_weights):\n",
    "        model.load_weights(pretrained_weights)\n",
    "\n",
    "    return model"
   ]
  },
  {
   "cell_type": "code",
   "execution_count": null,
   "metadata": {},
   "outputs": [],
   "source": []
  }
 ],
 "metadata": {
  "kernelspec": {
   "display_name": "Python 3",
   "language": "python",
   "name": "python3"
  },
  "language_info": {
   "codemirror_mode": {
    "name": "ipython",
    "version": 3
   },
   "file_extension": ".py",
   "mimetype": "text/x-python",
   "name": "python",
   "nbconvert_exporter": "python",
   "pygments_lexer": "ipython3",
   "version": "3.8.5"
  }
 },
 "nbformat": 4,
 "nbformat_minor": 4
}
